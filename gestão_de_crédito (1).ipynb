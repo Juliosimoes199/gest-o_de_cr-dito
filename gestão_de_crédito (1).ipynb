{
 "cells": [
  {
   "cell_type": "code",
   "execution_count": 4,
   "id": "526c605f",
   "metadata": {},
   "outputs": [],
   "source": [
    "from IPython.display import Image, display"
   ]
  },
  {
   "cell_type": "markdown",
   "id": "510395c8",
   "metadata": {},
   "source": [
    "# Gestão de Cartão de Crédito Na Índia"
   ]
  },
  {
   "cell_type": "code",
   "execution_count": 5,
   "id": "b5ff0ecb",
   "metadata": {},
   "outputs": [
    {
     "data": {
      "image/jpeg": "[encoded data removed]",
      "text/plain": [
       "<IPython.core.display.Image object>"
      ]
     },
     "metadata": {
      "image/jpeg": {
       "height": 800
      }
     },
     "output_type": "display_data"
    }
   ],
   "source": [
    "display(Image(filename='OIP.jpeg',  height=800))"
   ]
  },
  {
   "cell_type": "code",
   "execution_count": 6,
   "id": "66300a02",
   "metadata": {},
   "outputs": [],
   "source": [
    "import pandas as pd"
   ]
  },
  {
   "cell_type": "code",
   "execution_count": 7,
   "id": "a12523cc",
   "metadata": {},
   "outputs": [],
   "source": [
    "df = pd.read_csv('Credit card transactions - India - Simple.csv')"
   ]
  },
  {
   "cell_type": "code",
   "execution_count": 8,
   "id": "7b24bb76",
   "metadata": {},
   "outputs": [
    {
     "data": {
      "text/html": [
       "<div>\n",
       "<style scoped>\n",
       "    .dataframe tbody tr th:only-of-type {\n",
       "        vertical-align: middle;\n",
       "    }\n",
       "\n",
       "    .dataframe tbody tr th {\n",
       "        vertical-align: top;\n",
       "    }\n",
       "\n",
       "    .dataframe thead th {\n",
       "        text-align: right;\n",
       "    }\n",
       "</style>\n",
       "<table border=\"1\" class=\"dataframe\">\n",
       "  <thead>\n",
       "    <tr style=\"text-align: right;\">\n",
       "      <th></th>\n",
       "      <th>index</th>\n",
       "      <th>City</th>\n",
       "      <th>Date</th>\n",
       "      <th>Card Type</th>\n",
       "      <th>Exp Type</th>\n",
       "      <th>Gender</th>\n",
       "      <th>Amount</th>\n",
       "    </tr>\n",
       "  </thead>\n",
       "  <tbody>\n",
       "    <tr>\n",
       "      <th>0</th>\n",
       "      <td>0</td>\n",
       "      <td>Delhi, India</td>\n",
       "      <td>29-Oct-14</td>\n",
       "      <td>Gold</td>\n",
       "      <td>Bills</td>\n",
       "      <td>F</td>\n",
       "      <td>82475</td>\n",
       "    </tr>\n",
       "    <tr>\n",
       "      <th>1</th>\n",
       "      <td>1</td>\n",
       "      <td>Greater Mumbai, India</td>\n",
       "      <td>22-Aug-14</td>\n",
       "      <td>Platinum</td>\n",
       "      <td>Bills</td>\n",
       "      <td>F</td>\n",
       "      <td>32555</td>\n",
       "    </tr>\n",
       "    <tr>\n",
       "      <th>2</th>\n",
       "      <td>2</td>\n",
       "      <td>Bengaluru, India</td>\n",
       "      <td>27-Aug-14</td>\n",
       "      <td>Silver</td>\n",
       "      <td>Bills</td>\n",
       "      <td>F</td>\n",
       "      <td>101738</td>\n",
       "    </tr>\n",
       "    <tr>\n",
       "      <th>3</th>\n",
       "      <td>3</td>\n",
       "      <td>Greater Mumbai, India</td>\n",
       "      <td>12-Apr-14</td>\n",
       "      <td>Signature</td>\n",
       "      <td>Bills</td>\n",
       "      <td>F</td>\n",
       "      <td>123424</td>\n",
       "    </tr>\n",
       "    <tr>\n",
       "      <th>4</th>\n",
       "      <td>4</td>\n",
       "      <td>Bengaluru, India</td>\n",
       "      <td>5-May-15</td>\n",
       "      <td>Gold</td>\n",
       "      <td>Bills</td>\n",
       "      <td>F</td>\n",
       "      <td>171574</td>\n",
       "    </tr>\n",
       "  </tbody>\n",
       "</table>\n",
       "</div>"
      ],
      "text/plain": [
       "   index                   City       Date  Card Type Exp Type Gender  Amount\n",
       "0      0           Delhi, India  29-Oct-14       Gold    Bills      F   82475\n",
       "1      1  Greater Mumbai, India  22-Aug-14   Platinum    Bills      F   32555\n",
       "2      2       Bengaluru, India  27-Aug-14     Silver    Bills      F  101738\n",
       "3      3  Greater Mumbai, India  12-Apr-14  Signature    Bills      F  123424\n",
       "4      4       Bengaluru, India   5-May-15       Gold    Bills      F  171574"
      ]
     },
     "execution_count": 8,
     "metadata": {},
     "output_type": "execute_result"
    }
   ],
   "source": [
    "df.head()"
   ]
  },
  {
   "cell_type": "code",
   "execution_count": 9,
   "id": "d7f98832",
   "metadata": {},
   "outputs": [
    {
     "data": {
      "text/plain": [
       "Index(['index', 'City', 'Date', 'Card Type', 'Exp Type', 'Gender', 'Amount'], dtype='object')"
      ]
     },
     "execution_count": 9,
     "metadata": {},
     "output_type": "execute_result"
    }
   ],
   "source": [
    "df.columns"
   ]
  },
  {
   "cell_type": "code",
   "execution_count": 10,
   "id": "b8670273",
   "metadata": {},
   "outputs": [],
   "source": [
    "df.columns = ['índice', 'cidade', 'data', 'tipo de cartão', 'tipo exp', 'sexo', 'valor']"
   ]
  },
  {
   "cell_type": "code",
   "execution_count": 11,
   "id": "e05dfae4",
   "metadata": {},
   "outputs": [
    {
     "data": {
      "text/html": [
       "<div>\n",
       "<style scoped>\n",
       "    .dataframe tbody tr th:only-of-type {\n",
       "        vertical-align: middle;\n",
       "    }\n",
       "\n",
       "    .dataframe tbody tr th {\n",
       "        vertical-align: top;\n",
       "    }\n",
       "\n",
       "    .dataframe thead th {\n",
       "        text-align: right;\n",
       "    }\n",
       "</style>\n",
       "<table border=\"1\" class=\"dataframe\">\n",
       "  <thead>\n",
       "    <tr style=\"text-align: right;\">\n",
       "      <th></th>\n",
       "      <th>índice</th>\n",
       "      <th>cidade</th>\n",
       "      <th>data</th>\n",
       "      <th>tipo de cartão</th>\n",
       "      <th>tipo exp</th>\n",
       "      <th>sexo</th>\n",
       "      <th>valor</th>\n",
       "    </tr>\n",
       "  </thead>\n",
       "  <tbody>\n",
       "    <tr>\n",
       "      <th>0</th>\n",
       "      <td>0</td>\n",
       "      <td>Delhi, India</td>\n",
       "      <td>29-Oct-14</td>\n",
       "      <td>Gold</td>\n",
       "      <td>Bills</td>\n",
       "      <td>F</td>\n",
       "      <td>82475</td>\n",
       "    </tr>\n",
       "    <tr>\n",
       "      <th>1</th>\n",
       "      <td>1</td>\n",
       "      <td>Greater Mumbai, India</td>\n",
       "      <td>22-Aug-14</td>\n",
       "      <td>Platinum</td>\n",
       "      <td>Bills</td>\n",
       "      <td>F</td>\n",
       "      <td>32555</td>\n",
       "    </tr>\n",
       "    <tr>\n",
       "      <th>2</th>\n",
       "      <td>2</td>\n",
       "      <td>Bengaluru, India</td>\n",
       "      <td>27-Aug-14</td>\n",
       "      <td>Silver</td>\n",
       "      <td>Bills</td>\n",
       "      <td>F</td>\n",
       "      <td>101738</td>\n",
       "    </tr>\n",
       "    <tr>\n",
       "      <th>3</th>\n",
       "      <td>3</td>\n",
       "      <td>Greater Mumbai, India</td>\n",
       "      <td>12-Apr-14</td>\n",
       "      <td>Signature</td>\n",
       "      <td>Bills</td>\n",
       "      <td>F</td>\n",
       "      <td>123424</td>\n",
       "    </tr>\n",
       "    <tr>\n",
       "      <th>4</th>\n",
       "      <td>4</td>\n",
       "      <td>Bengaluru, India</td>\n",
       "      <td>5-May-15</td>\n",
       "      <td>Gold</td>\n",
       "      <td>Bills</td>\n",
       "      <td>F</td>\n",
       "      <td>171574</td>\n",
       "    </tr>\n",
       "  </tbody>\n",
       "</table>\n",
       "</div>"
      ],
      "text/plain": [
       "   índice                 cidade       data tipo de cartão tipo exp sexo  \\\n",
       "0       0           Delhi, India  29-Oct-14           Gold    Bills    F   \n",
       "1       1  Greater Mumbai, India  22-Aug-14       Platinum    Bills    F   \n",
       "2       2       Bengaluru, India  27-Aug-14         Silver    Bills    F   \n",
       "3       3  Greater Mumbai, India  12-Apr-14      Signature    Bills    F   \n",
       "4       4       Bengaluru, India   5-May-15           Gold    Bills    F   \n",
       "\n",
       "    valor  \n",
       "0   82475  \n",
       "1   32555  \n",
       "2  101738  \n",
       "3  123424  \n",
       "4  171574  "
      ]
     },
     "execution_count": 11,
     "metadata": {},
     "output_type": "execute_result"
    }
   ],
   "source": [
    "df.head()"
   ]
  },
  {
   "cell_type": "code",
   "execution_count": null,
   "id": "5244fdb0",
   "metadata": {},
   "outputs": [],
   "source": []
  },
  {
   "cell_type": "code",
   "execution_count": 12,
   "id": "5af324e8",
   "metadata": {},
   "outputs": [
    {
     "name": "stdout",
     "output_type": "stream",
     "text": [
      "<class 'pandas.core.frame.DataFrame'>\n",
      "RangeIndex: 26052 entries, 0 to 26051\n",
      "Data columns (total 7 columns):\n",
      " #   Column          Non-Null Count  Dtype \n",
      "---  ------          --------------  ----- \n",
      " 0   índice          26052 non-null  int64 \n",
      " 1   cidade          26052 non-null  object\n",
      " 2   data            26052 non-null  object\n",
      " 3   tipo de cartão  26052 non-null  object\n",
      " 4   tipo exp        26052 non-null  object\n",
      " 5   sexo            26052 non-null  object\n",
      " 6   valor           26052 non-null  int64 \n",
      "dtypes: int64(2), object(5)\n",
      "memory usage: 1.4+ MB\n"
     ]
    }
   ],
   "source": [
    "df.info()"
   ]
  },
  {
   "cell_type": "code",
   "execution_count": 13,
   "id": "ccfb65a5",
   "metadata": {},
   "outputs": [
    {
     "data": {
      "text/plain": [
       "índice            0\n",
       "cidade            0\n",
       "data              0\n",
       "tipo de cartão    0\n",
       "tipo exp          0\n",
       "sexo              0\n",
       "valor             0\n",
       "dtype: int64"
      ]
     },
     "execution_count": 13,
     "metadata": {},
     "output_type": "execute_result"
    }
   ],
   "source": [
    "df.isna().sum()"
   ]
  },
  {
   "cell_type": "code",
   "execution_count": null,
   "id": "bbac99fe",
   "metadata": {},
   "outputs": [],
   "source": []
  },
  {
   "cell_type": "code",
   "execution_count": 14,
   "id": "c753e719",
   "metadata": {},
   "outputs": [],
   "source": [
    "import seaborn as sns\n",
    "import plotly.express as px"
   ]
  },
  {
   "cell_type": "markdown",
   "id": "7d2391ba",
   "metadata": {},
   "source": [
    "# Na nossa base de dados registou-se que há mais gastos em comida em relação aos outros itens"
   ]
  },
  {
   "cell_type": "code",
   "execution_count": 23,
   "id": "86438454",
   "metadata": {},
   "outputs": [
    {
     "data": {
      "text/plain": [
       "<Axes: xlabel='tipo exp', ylabel='Count'>"
      ]
     },
     "execution_count": 23,
     "metadata": {},
     "output_type": "execute_result"
    },
    {
     "data": {
      "image/png": "[encoded data removed]",
      "text/plain": [
       "<Figure size 640x480 with 1 Axes>"
      ]
     },
     "metadata": {},
     "output_type": "display_data"
    }
   ],
   "source": [
    "sns.histplot(data=df, x='tipo exp')"
   ]
  },
  {
   "cell_type": "markdown",
   "id": "e7b59af9",
   "metadata": {},
   "source": [
    "# Os gastos com base o sexo esta meio equilibrado com excessão nas contas, as mulheres são as que mais pagam as contas me levando a pensar que há muitas mulheres independente, solteiras ou talvez a cultura indiana tem influenciado nesses valores de forma talvez que seja cultural as mulheres arranjarem casa própria depois de atingir a fase adulta"
   ]
  },
  {
   "cell_type": "code",
   "execution_count": 16,
   "id": "05a72a5a",
   "metadata": {},
   "outputs": [
    {
     "data": {
      "image/png": "[encoded data removed]",
      "text/plain": [
       "<Figure size 640x480 with 1 Axes>"
      ]
     },
     "metadata": {},
     "output_type": "display_data"
    }
   ],
   "source": [
    "sns.barplot(data=df, x='tipo exp', y='valor', hue='sexo', errorbar=('ci', False));"
   ]
  },
  {
   "cell_type": "markdown",
   "id": "b074bc76",
   "metadata": {},
   "source": [
    "# Mas o que realmente faz diferença nos bolsos dos indianos é o gasto em pagamentos de contas atingindo mas de 907 milhões em dinheiro, diferente dos gastos em comida que atingiu mais de 824 milhões como se pode observar na tabela a baixo. Que me leva a concluir que os valores das contas a se pagar são muito altas ou há muitas contas que o cidadão deverá pagar"
   ]
  },
  {
   "cell_type": "code",
   "execution_count": 17,
   "id": "b3ce284a",
   "metadata": {},
   "outputs": [
    {
     "data": {
      "text/html": [
       "<style type=\"text/css\">\n",
       "#T_9a33d_row0_col0 {\n",
       "  background-color: #08306b;\n",
       "  color: #f1f1f1;\n",
       "}\n",
       "#T_9a33d_row1_col0 {\n",
       "  background-color: #084b93;\n",
       "  color: #f1f1f1;\n",
       "}\n",
       "#T_9a33d_row2_col0 {\n",
       "  background-color: #0c56a0;\n",
       "  color: #f1f1f1;\n",
       "}\n",
       "#T_9a33d_row3_col0 {\n",
       "  background-color: #1c6ab0;\n",
       "  color: #f1f1f1;\n",
       "}\n",
       "#T_9a33d_row4_col0 {\n",
       "  background-color: #1e6db2;\n",
       "  color: #f1f1f1;\n",
       "}\n",
       "#T_9a33d_row5_col0 {\n",
       "  background-color: #f7fbff;\n",
       "  color: #000000;\n",
       "}\n",
       "</style>\n",
       "<table id=\"T_9a33d\">\n",
       "  <thead>\n",
       "    <tr>\n",
       "      <th class=\"blank level0\" >&nbsp;</th>\n",
       "      <th id=\"T_9a33d_level0_col0\" class=\"col_heading level0 col0\" >valor</th>\n",
       "    </tr>\n",
       "    <tr>\n",
       "      <th class=\"index_name level0\" >tipo exp</th>\n",
       "      <th class=\"blank col0\" >&nbsp;</th>\n",
       "    </tr>\n",
       "  </thead>\n",
       "  <tbody>\n",
       "    <tr>\n",
       "      <th id=\"T_9a33d_level0_row0\" class=\"row_heading level0 row0\" >Bills</th>\n",
       "      <td id=\"T_9a33d_row0_col0\" class=\"data row0 col0\" >907072473</td>\n",
       "    </tr>\n",
       "    <tr>\n",
       "      <th id=\"T_9a33d_level0_row1\" class=\"row_heading level0 row1\" >Food</th>\n",
       "      <td id=\"T_9a33d_row1_col0\" class=\"data row1 col0\" >824724009</td>\n",
       "    </tr>\n",
       "    <tr>\n",
       "      <th id=\"T_9a33d_level0_row2\" class=\"row_heading level0 row2\" >Fuel</th>\n",
       "      <td id=\"T_9a33d_row2_col0\" class=\"data row2 col0\" >789135821</td>\n",
       "    </tr>\n",
       "    <tr>\n",
       "      <th id=\"T_9a33d_level0_row3\" class=\"row_heading level0 row3\" >Entertainment</th>\n",
       "      <td id=\"T_9a33d_row3_col0\" class=\"data row3 col0\" >726437536</td>\n",
       "    </tr>\n",
       "    <tr>\n",
       "      <th id=\"T_9a33d_level0_row4\" class=\"row_heading level0 row4\" >Grocery</th>\n",
       "      <td id=\"T_9a33d_row4_col0\" class=\"data row4 col0\" >718207923</td>\n",
       "    </tr>\n",
       "    <tr>\n",
       "      <th id=\"T_9a33d_level0_row5\" class=\"row_heading level0 row5\" >Travel</th>\n",
       "      <td id=\"T_9a33d_row5_col0\" class=\"data row5 col0\" >109255611</td>\n",
       "    </tr>\n",
       "  </tbody>\n",
       "</table>\n"
      ],
      "text/plain": [
       "<pandas.io.formats.style.Styler at 0x2a19b70b0d0>"
      ]
     },
     "execution_count": 17,
     "metadata": {},
     "output_type": "execute_result"
    }
   ],
   "source": [
    "df[['tipo exp','valor']].groupby('tipo exp').sum().sort_values(by='valor', ascending=False).style.background_gradient(cmap='Blues')"
   ]
  },
  {
   "cell_type": "markdown",
   "id": "79cbe8ad",
   "metadata": {},
   "source": [
    "# Temos uma lista com o total de receita gasto por cidade onde podemos considerar que as 5 primeiras cidades são as que trazem mais receitas e as 5 ultimas cidades não trazem muitas receitas"
   ]
  },
  {
   "cell_type": "code",
   "execution_count": 18,
   "id": "7fd8dc94",
   "metadata": {},
   "outputs": [
    {
     "data": {
      "text/html": [
       "<div>\n",
       "<style scoped>\n",
       "    .dataframe tbody tr th:only-of-type {\n",
       "        vertical-align: middle;\n",
       "    }\n",
       "\n",
       "    .dataframe tbody tr th {\n",
       "        vertical-align: top;\n",
       "    }\n",
       "\n",
       "    .dataframe thead th {\n",
       "        text-align: right;\n",
       "    }\n",
       "</style>\n",
       "<table border=\"1\" class=\"dataframe\">\n",
       "  <thead>\n",
       "    <tr style=\"text-align: right;\">\n",
       "      <th></th>\n",
       "      <th>valor</th>\n",
       "    </tr>\n",
       "    <tr>\n",
       "      <th>cidade</th>\n",
       "      <th></th>\n",
       "    </tr>\n",
       "  </thead>\n",
       "  <tbody>\n",
       "    <tr>\n",
       "      <th>Greater Mumbai, India</th>\n",
       "      <td>576751476</td>\n",
       "    </tr>\n",
       "    <tr>\n",
       "      <th>Bengaluru, India</th>\n",
       "      <td>572326739</td>\n",
       "    </tr>\n",
       "    <tr>\n",
       "      <th>Ahmedabad, India</th>\n",
       "      <td>567794310</td>\n",
       "    </tr>\n",
       "    <tr>\n",
       "      <th>Delhi, India</th>\n",
       "      <td>556929212</td>\n",
       "    </tr>\n",
       "    <tr>\n",
       "      <th>Kolkata, India</th>\n",
       "      <td>115466943</td>\n",
       "    </tr>\n",
       "    <tr>\n",
       "      <th>...</th>\n",
       "      <td>...</td>\n",
       "    </tr>\n",
       "    <tr>\n",
       "      <th>Changanassery, India</th>\n",
       "      <td>30074</td>\n",
       "    </tr>\n",
       "    <tr>\n",
       "      <th>Tirur, India</th>\n",
       "      <td>26094</td>\n",
       "    </tr>\n",
       "    <tr>\n",
       "      <th>Bahraich, India</th>\n",
       "      <td>24253</td>\n",
       "    </tr>\n",
       "    <tr>\n",
       "      <th>Mahbubnagar, India</th>\n",
       "      <td>15458</td>\n",
       "    </tr>\n",
       "    <tr>\n",
       "      <th>Fazilka, India</th>\n",
       "      <td>14949</td>\n",
       "    </tr>\n",
       "  </tbody>\n",
       "</table>\n",
       "<p>986 rows × 1 columns</p>\n",
       "</div>"
      ],
      "text/plain": [
       "                           valor\n",
       "cidade                          \n",
       "Greater Mumbai, India  576751476\n",
       "Bengaluru, India       572326739\n",
       "Ahmedabad, India       567794310\n",
       "Delhi, India           556929212\n",
       "Kolkata, India         115466943\n",
       "...                          ...\n",
       "Changanassery, India       30074\n",
       "Tirur, India               26094\n",
       "Bahraich, India            24253\n",
       "Mahbubnagar, India         15458\n",
       "Fazilka, India             14949\n",
       "\n",
       "[986 rows x 1 columns]"
      ]
     },
     "execution_count": 18,
     "metadata": {},
     "output_type": "execute_result"
    }
   ],
   "source": [
    "df[['cidade', 'valor']].groupby('cidade').sum().sort_values(by='valor', ascending=False)"
   ]
  },
  {
   "cell_type": "markdown",
   "id": "be733820",
   "metadata": {},
   "source": [
    "# Para as empresas que atuam na área de entretenimento as cidades de Bengaluru, Dalli-Rajhara, Ahmedabad, Bikaner e Greater Mumbai seriam um bom mercado para aproveitar visto que gastam mais de 299 mil em entretenimento"
   ]
  },
  {
   "cell_type": "code",
   "execution_count": 19,
   "id": "fcad0892",
   "metadata": {},
   "outputs": [
    {
     "data": {
      "text/html": [
       "<div>\n",
       "<style scoped>\n",
       "    .dataframe tbody tr th:only-of-type {\n",
       "        vertical-align: middle;\n",
       "    }\n",
       "\n",
       "    .dataframe tbody tr th {\n",
       "        vertical-align: top;\n",
       "    }\n",
       "\n",
       "    .dataframe thead th {\n",
       "        text-align: right;\n",
       "    }\n",
       "</style>\n",
       "<table border=\"1\" class=\"dataframe\">\n",
       "  <thead>\n",
       "    <tr style=\"text-align: right;\">\n",
       "      <th></th>\n",
       "      <th>cidade</th>\n",
       "      <th>tipo exp</th>\n",
       "      <th>valor</th>\n",
       "    </tr>\n",
       "  </thead>\n",
       "  <tbody>\n",
       "    <tr>\n",
       "      <th>13280</th>\n",
       "      <td>Bengaluru, India</td>\n",
       "      <td>Entertainment</td>\n",
       "      <td>299936</td>\n",
       "    </tr>\n",
       "    <tr>\n",
       "      <th>17846</th>\n",
       "      <td>Dalli-Rajhara, India</td>\n",
       "      <td>Entertainment</td>\n",
       "      <td>299906</td>\n",
       "    </tr>\n",
       "    <tr>\n",
       "      <th>9208</th>\n",
       "      <td>Ahmedabad, India</td>\n",
       "      <td>Entertainment</td>\n",
       "      <td>299794</td>\n",
       "    </tr>\n",
       "    <tr>\n",
       "      <th>18950</th>\n",
       "      <td>Bikaner, India</td>\n",
       "      <td>Entertainment</td>\n",
       "      <td>299673</td>\n",
       "    </tr>\n",
       "    <tr>\n",
       "      <th>11573</th>\n",
       "      <td>Greater Mumbai, India</td>\n",
       "      <td>Entertainment</td>\n",
       "      <td>299610</td>\n",
       "    </tr>\n",
       "    <tr>\n",
       "      <th>...</th>\n",
       "      <td>...</td>\n",
       "      <td>...</td>\n",
       "      <td>...</td>\n",
       "    </tr>\n",
       "    <tr>\n",
       "      <th>12217</th>\n",
       "      <td>Greater Mumbai, India</td>\n",
       "      <td>Entertainment</td>\n",
       "      <td>1240</td>\n",
       "    </tr>\n",
       "    <tr>\n",
       "      <th>13802</th>\n",
       "      <td>Ahmedabad, India</td>\n",
       "      <td>Entertainment</td>\n",
       "      <td>1177</td>\n",
       "    </tr>\n",
       "    <tr>\n",
       "      <th>22900</th>\n",
       "      <td>Lucknow, India</td>\n",
       "      <td>Entertainment</td>\n",
       "      <td>1133</td>\n",
       "    </tr>\n",
       "    <tr>\n",
       "      <th>5256</th>\n",
       "      <td>Bengaluru, India</td>\n",
       "      <td>Entertainment</td>\n",
       "      <td>1074</td>\n",
       "    </tr>\n",
       "    <tr>\n",
       "      <th>11021</th>\n",
       "      <td>Delhi, India</td>\n",
       "      <td>Entertainment</td>\n",
       "      <td>1061</td>\n",
       "    </tr>\n",
       "  </tbody>\n",
       "</table>\n",
       "<p>4762 rows × 3 columns</p>\n",
       "</div>"
      ],
      "text/plain": [
       "                      cidade       tipo exp   valor\n",
       "13280       Bengaluru, India  Entertainment  299936\n",
       "17846   Dalli-Rajhara, India  Entertainment  299906\n",
       "9208        Ahmedabad, India  Entertainment  299794\n",
       "18950         Bikaner, India  Entertainment  299673\n",
       "11573  Greater Mumbai, India  Entertainment  299610\n",
       "...                      ...            ...     ...\n",
       "12217  Greater Mumbai, India  Entertainment    1240\n",
       "13802       Ahmedabad, India  Entertainment    1177\n",
       "22900         Lucknow, India  Entertainment    1133\n",
       "5256        Bengaluru, India  Entertainment    1074\n",
       "11021           Delhi, India  Entertainment    1061\n",
       "\n",
       "[4762 rows x 3 columns]"
      ]
     },
     "execution_count": 19,
     "metadata": {},
     "output_type": "execute_result"
    }
   ],
   "source": [
    "pagos_por_entretenimento_nas_cidades = df[['cidade', 'tipo exp', 'valor']]\n",
    "pagos_por_entretenimento_nas_cidades[pagos_por_entretenimento_nas_cidades['tipo exp'] == 'Entertainment'].sort_values(by='valor', ascending=False)"
   ]
  },
  {
   "cell_type": "markdown",
   "id": "04afcf8d",
   "metadata": {},
   "source": [
    "# E o cartão preferencial para os pagamentos pelos visto é o Silver"
   ]
  },
  {
   "cell_type": "code",
   "execution_count": 20,
   "id": "be8da7a9",
   "metadata": {},
   "outputs": [
    {
     "data": {
      "text/plain": [
       "<Axes: xlabel='tipo de cartão', ylabel='Count'>"
      ]
     },
     "execution_count": 20,
     "metadata": {},
     "output_type": "execute_result"
    },
    {
     "data": {
      "image/png": "[encoded data removed]",
      "text/plain": [
       "<Figure size 640x480 with 1 Axes>"
      ]
     },
     "metadata": {},
     "output_type": "display_data"
    }
   ],
   "source": [
    "sns.histplot(df['tipo de cartão'])"
   ]
  },
  {
   "cell_type": "code",
   "execution_count": null,
   "id": "61c2db88",
   "metadata": {},
   "outputs": [],
   "source": []
  },
  {
   "cell_type": "code",
   "execution_count": null,
   "id": "76ebb2b4",
   "metadata": {},
   "outputs": [],
   "source": []
  }
 ],
 "metadata": {
  "kernelspec": {
   "display_name": "Python 3 (ipykernel)",
   "language": "python",
   "name": "python3"
  },
  "language_info": {
   "codemirror_mode": {
    "name": "ipython",
    "version": 3
   },
   "file_extension": ".py",
   "mimetype": "text/x-python",
   "name": "python",
   "nbconvert_exporter": "python",
   "pygments_lexer": "ipython3",
   "version": "3.11.5"
  }
 },
 "nbformat": 4,
 "nbformat_minor": 5
}
